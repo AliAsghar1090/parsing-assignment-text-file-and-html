{
 "cells": [
  {
   "cell_type": "code",
   "execution_count": 2,
   "metadata": {},
   "outputs": [
    {
     "name": "stdout",
     "output_type": "stream",
     "text": [
      "The file sample.txt has about 38128 words.\n",
      "The file sample.txt has about 54320 spaces.\n",
      "The file sample.txt has about 4821 lines.\n",
      "The file sample.txt has about 34 tabs.\n",
      "The file sample.txt has about 137184 character.\n"
     ]
    }
   ],
   "source": [
    "def spaces(filename):\n",
    "    with open (filename,encoding=\"utf8\") as f:\n",
    "       s = f.read()\n",
    "       spc = \" \"\n",
    "       num_spc = 0\n",
    "    for x in s :\n",
    "         if x == spc:\n",
    "            num_spc +=1\n",
    "    print(\"The file \" + filename + \" has about \" + str(num_spc) + \" spaces.\")\n",
    "\n",
    "def lines(filename):\n",
    "  with  open (filename,encoding=\"utf=8\") as f:\n",
    "    s = f.read()\n",
    "  x = s.splitlines()\n",
    "  lines = len(x)\n",
    "  print(\"The file \" + filename + \" has about \" + str(lines) + \" lines.\")\n",
    "\n",
    "def tab(filename):\n",
    "      with open(filename, encoding=\"utf8\") as f:\n",
    "          f = f.read()\n",
    "      coun_tab = 0\n",
    "      for tabs in f:\n",
    "          if \"\\t\" in tabs:\n",
    "             coun_tab += 1\n",
    "      print(\"The file \" + filename + \" has about \" + str(coun_tab) + \" tabs.\")\n",
    "\n",
    "def character(filename):\n",
    "    with open (filename,encoding=\"utf8\") as f:\n",
    "       s = f.read()\n",
    "    char = len(s)\n",
    "    print(\"The file \" + filename + \" has about \" + str(char) + \" character.\")\n",
    "\n",
    "\n",
    "def count_words(filename):\n",
    "    \"\"\"Count the approximate number of words in a file.\"\"\"\n",
    "    try:\n",
    "        with open(filename,encoding=\"utf8\") as f_obj:\n",
    "            contents = f_obj.read()\n",
    "    except FileNotFoundError:\n",
    "        msg = \"Sorry, the file \" + filename + \" does not exist.\"\n",
    "        print(msg)\n",
    "    else:\n",
    "        # Count approximate number of words in the file.\n",
    "        words = contents.split()\n",
    "        num_words = len(words)\n",
    "        print(\"The file \" + filename + \" has about \" + str(num_words) + \" words.\")\n",
    "\n",
    "filenames = ['sample.txt']\n",
    "for filename in filenames:\n",
    "     count_words(filename)\n",
    "     spaces(filename)\n",
    "     lines(filename)\n",
    "     tab(filename)\n",
    "     character(filename)"
   ]
  },
  {
   "cell_type": "code",
   "execution_count": null,
   "metadata": {},
   "outputs": [],
   "source": []
  }
 ],
 "metadata": {
  "kernelspec": {
   "display_name": "Python 3",
   "language": "python",
   "name": "python3"
  },
  "language_info": {
   "codemirror_mode": {
    "name": "ipython",
    "version": 3
   },
   "file_extension": ".py",
   "mimetype": "text/x-python",
   "name": "python",
   "nbconvert_exporter": "python",
   "pygments_lexer": "ipython3",
   "version": "3.7.3"
  }
 },
 "nbformat": 4,
 "nbformat_minor": 2
}
